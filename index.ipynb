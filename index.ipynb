{
 "cells": [
  {
   "cell_type": "markdown",
   "metadata": {},
   "source": [
    "desde aca con csv"
   ]
  },
  {
   "cell_type": "code",
   "execution_count": null,
   "metadata": {},
   "outputs": [
    {
     "name": "stdout",
     "output_type": "stream",
     "text": [
      "Subiendo la primera mitad de los archivos...\n",
      "Subiendo archivo limpio: game.csv\n"
     ]
    }
   ],
   "source": [
    "import os\n",
    "import pandas as pd\n",
    "import firebase_admin\n",
    "from firebase_admin import credentials, firestore\n",
    "\n",
    "# Configurar Firebase con las credenciales\n",
    "cred = credentials.Certificate(\"firebase-key.json\")\n",
    "firebase_admin.initialize_app(cred)\n",
    "db = firestore.client()\n",
    "\n",
    "# Ruta a la carpeta donde están los archivos CSV\n",
    "csv_folder = \"C:/Users/santi/Desktop/PI/archive/csv\"  # Cambiar según sea necesario\n",
    "\n",
    "# Archivos CSV para subir en la primera mitad\n",
    "csv_files = [\n",
    "    #'common_player_info.csv', 'draft_combine_stats.csv', 'draft_history.csv', \n",
    "     'common_player_info.csv', 'draft_combine_stats.csv', 'draft_history.csv',\n",
    "    'game.csv', 'game_info.csv', 'game_summary.csv', 'inactive_players.csv', 'line_score.csv'\n",
    "]\n",
    "\n",
    "# Función para subir los archivos a Firebase\n",
    "def upload_to_firebase(csv_list):\n",
    "    for csv_file in csv_list:\n",
    "        full_csv_path = os.path.join(csv_folder, csv_file)\n",
    "        print(f\"Subiendo archivo limpio: {csv_file}\")\n",
    "\n",
    "        # Cargar el CSV en un DataFrame\n",
    "        df = pd.read_csv(full_csv_path)\n",
    "\n",
    "        # Crear una colección en Firestore con el nombre del archivo CSV (sin extensión)\n",
    "        collection_name = os.path.splitext(csv_file)[0]\n",
    "        collection_ref = db.collection(collection_name)\n",
    "\n",
    "        # Subir los datos a Firestore\n",
    "        for index, row in df.iterrows():\n",
    "            doc_ref = collection_ref.document(str(index))  # Usar el índice como ID del documento\n",
    "            doc_ref.set(row.to_dict())  # Subir los datos como diccionario\n",
    "\n",
    "        print(f\"Datos limpios de {csv_file} subidos correctamente a Firestore.\")\n",
    "\n",
    "# Subir la primera mitad de los archivos\n",
    "print(\"Subiendo la primera mitad de los archivos...\")\n",
    "upload_to_firebase(csv_files)\n",
    "\n",
    "print(\"Primera mitad de los archivos CSV limpios subidos correctamente a Firebase Firestore.\")\n"
   ]
  },
  {
   "cell_type": "code",
   "execution_count": null,
   "metadata": {},
   "outputs": [],
   "source": [
    "# Archivos CSV para subir en la segunda mitad\n",
    "csv_files_second_half = [\n",
    "    'line_score.csv', 'officials.csv', 'other_stats.csv', 'player.csv', 'play_by_play.csv', 'team.csv',\n",
    "    'team_details.csv', 'team_history.csv', 'team_info_common.csv'\n",
    "]\n",
    "\n",
    "# Subir la segunda mitad de los archivos\n",
    "print(\"Subiendo la segunda mitad de los archivos...\")\n",
    "upload_to_firebase(csv_files_second_half)\n",
    "\n",
    "print(\"Segunda mitad de los archivos CSV limpios subidos correctamente a Firebase Firestore.\")\n"
   ]
  }
 ],
 "metadata": {
  "kernelspec": {
   "display_name": "Python 3",
   "language": "python",
   "name": "python3"
  },
  "language_info": {
   "codemirror_mode": {
    "name": "ipython",
    "version": 3
   },
   "file_extension": ".py",
   "mimetype": "text/x-python",
   "name": "python",
   "nbconvert_exporter": "python",
   "pygments_lexer": "ipython3",
   "version": "3.12.6"
  }
 },
 "nbformat": 4,
 "nbformat_minor": 2
}
