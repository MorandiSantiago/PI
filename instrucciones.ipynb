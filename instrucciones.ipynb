{
 "cells": [
  {
   "cell_type": "markdown",
   "metadata": {},
   "source": [
    "1- Descargar su propia clave JSON de Firebase\n",
    "Cada uno debe:\n",
    "\n",
    "Ir a Configuración del proyecto → Cuentas de servicio.\n",
    "Hacer clic en \"Generar nueva clave privada\".\n",
    "Descargar el archivo JSON y guardarlo en su carpeta de trabajo.\n",
    "📌 Cada usuario usa su propia clave JSON. No deben compartirla.\n"
   ]
  },
  {
   "cell_type": "code",
   "execution_count": null,
   "metadata": {},
   "outputs": [],
   "source": [
    "# 2️- Instalar las librerías necesarias en terminal\n",
    "pip install firebase-admin pandas\n"
   ]
  },
  {
   "cell_type": "markdown",
   "metadata": {},
   "source": [
    "3- Usar este código para conectarse a Firebase y ver la base de datos"
   ]
  },
  {
   "cell_type": "code",
   "execution_count": null,
   "metadata": {},
   "outputs": [],
   "source": [
    "import firebase_admin\n",
    "from firebase_admin import credentials, firestore\n",
    "\n",
    "# Cargar credenciales (cada usuario usa su propio archivo JSON)\n",
    "cred = credentials.Certificate(\"firebase-key.json\")  # Descargar y poner ese nombre\n",
    "firebase_admin.initialize_app(cred)\n",
    "db = firestore.client()\n",
    "\n",
    "# Leer datos desde Firestore\n",
    "collection_ref = db.collection(\"basketball_players\")  # Nombre de la colección\n",
    "\n",
    "# Obtener todos los documentos\n",
    "docs = collection_ref.stream()\n",
    "\n",
    "# Mostrar los datos\n",
    "for doc in docs:\n",
    "    print(f\"{doc.id}: {doc.to_dict()}\")\n"
   ]
  }
 ],
 "metadata": {
  "language_info": {
   "name": "python"
  }
 },
 "nbformat": 4,
 "nbformat_minor": 2
}
